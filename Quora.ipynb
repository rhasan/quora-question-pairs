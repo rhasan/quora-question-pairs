{
 "cells": [
  {
   "cell_type": "markdown",
   "metadata": {},
   "source": [
    "# The Problem\n",
    "The problem is from Kaggle: https://www.kaggle.com/c/quora-question-pairs/data\n",
    "\n",
    "In short, given a pair of questions. The goal is to predict if the pair of questions has the same meaning.\n",
    "\n",
    "## Data\n",
    "The training data contains the following fields:\n",
    "* id - the id of a training set question pair\n",
    "* qid1, qid2 - unique ids of each question (only available in train.csv)\n",
    "* question1, question2 - the full text of each question\n",
    "* is_duplicate - the target variable, set to 1 if question1 and question2 have essentially the same meaning, and 0 otherwise.\n",
    "\n",
    "## The Solution\n",
    "I treat this matching problem as a classification problem. More formally, I model the problem as below:\n",
    "\n",
    "$$y = f(q1, q2) \\enspace where \\enspace y \\in \\{0, 1\\} $$\n",
    "_q1_ and _q2_ are _question 1_ and _question 2_ respectively.\n",
    "\n",
    "I used SparkML for this PoC. The training data file should be kept in HDFS to load it.\n"
   ]
  },
  {
   "cell_type": "code",
   "execution_count": null,
   "metadata": {
    "collapsed": true
   },
   "outputs": [],
   "source": [
    "from pyspark.ml.feature import HashingTF, IDF, Tokenizer\n",
    "from pyspark.sql.types import ShortType\n",
    "from pyspark.ml.feature import StopWordsRemover\n",
    "from pyspark.ml.feature import RegexTokenizer\n",
    "from pyspark.ml.linalg import Vectors\n",
    "from pyspark.ml.feature import VectorAssembler\n",
    "from pyspark.sql.functions import length, udf, array, size\n",
    "from pyspark.sql.types import IntegerType\n",
    "from pyspark.ml.feature import StringIndexer, VectorIndexer\n",
    "from pyspark.ml.feature import StandardScaler"
   ]
  },
  {
   "cell_type": "markdown",
   "metadata": {},
   "source": [
    "# Preprocessing the Data\n",
    "Clean the string data by tokenizing and removing stopwords."
   ]
  },
  {
   "cell_type": "code",
   "execution_count": null,
   "metadata": {
    "collapsed": true
   },
   "outputs": [],
   "source": [
    "\n",
    "def tokenize(p_df, in_column, out_column):\n",
    "    \"\"\"\n",
    "    Tokenizes a column in a DataFrame.\n",
    "    :param p_df: A DataFrame.\n",
    "    :param in_column: Name of the input column.\n",
    "    :param out_column: Name of the output column.\n",
    "    :return: A DataFrame.\n",
    "    \"\"\"\n",
    "    tokenizer = RegexTokenizer(inputCol=in_column, outputCol=out_column, pattern=\"\\\\W\")\n",
    "    return tokenizer.transform(p_df)\n",
    "\n",
    "def remove_stop_words(p_df, in_column, out_column):\n",
    "    \"\"\"\n",
    "    Removes stop words from a column in a DataFrame. The column must be a list of words.\n",
    "    :param p_df: A DataFrame.\n",
    "    :param in_column: Name of the input column.\n",
    "    :param out_column: Name of the output column.\n",
    "    :return: A DataFrame.\n",
    "    \"\"\"    \n",
    "    remover = StopWordsRemover(inputCol=in_column, outputCol=out_column)\n",
    "    return remover.transform(p_df)\n",
    "\n",
    "def clean_tokenize_remove_stopwords_quora(p_df, test_set=False):\n",
    "    \"\"\"\n",
    "    Cleans, tokenizes, and removes stopwords from the quora dataset.\n",
    "    :param p_df: A DataFrame.\n",
    "    :param test_set: True or False for the quora data where the columns are different.\n",
    "    :return: A DataFrame.    \n",
    "    \"\"\"\n",
    "    if not test_set:\n",
    "        p_df = p_df.withColumnRenamed(\"is_duplicate\", \"label\")\n",
    "        p_df = p_df.withColumn(\"label\", p_df[\"label\"].cast(ShortType()))\n",
    "    \n",
    "    p_df = p_df.fillna(\"\", [\"question1\", \"question2\"])\n",
    "    if not test_set:\n",
    "        p_df = p_df.fillna(0, [\"label\"])\n",
    "    p_df = tokenize(p_df, \"question1\", \"question1_words\")\n",
    "    p_df = remove_stop_words(p_df, \"question1_words\", \"question1_meaningful_words\")\n",
    "    p_df = tokenize(p_df, \"question2\", \"question2_words\")\n",
    "    p_df = remove_stop_words(p_df, \"question2_words\", \"question2_meaningful_words\")\n",
    "    return p_df\n"
   ]
  },
  {
   "cell_type": "markdown",
   "metadata": {},
   "source": [
    "\n",
    "# Feature Engineering\n",
    "I use TF-IDF features and some features derived from the question texts. The features derived from the texts are as below:\n",
    "* Lenght of question 1.\n",
    "* Length of question 2.\n",
    "* Difference between the length of question 1 and the length of question 2.\n",
    "* Number of words in question 1.\n",
    "* Number of words in question 2.\n",
    "* Number of common words in question1 and question 2.\n"
   ]
  },
  {
   "cell_type": "code",
   "execution_count": null,
   "metadata": {
    "collapsed": true
   },
   "outputs": [],
   "source": [
    "def extract_tf_features(p_df, input_col, output_col):\n",
    "    \"\"\"\n",
    "    Extracts TF features.\n",
    "    :param p_df: A DataFrame.\n",
    "    :param in_column: Name of the input column.\n",
    "    :param out_column: Name of the output column.\n",
    "    :return: A DataFrame.    \n",
    "    \"\"\"\n",
    "    hashingTF = HashingTF(inputCol=input_col, outputCol=output_col, numFeatures=3000)\n",
    "    return hashingTF.transform(p_df)\n",
    "\n",
    "def extract_idf_features(p_df, input_col, output_col):\n",
    "    \"\"\"\n",
    "    Extracts IDF features.\n",
    "    :param p_df: A DataFrame.\n",
    "    :param in_column: Name of the input column.\n",
    "    :param out_column: Name of the output column.\n",
    "    :return: A DataFrame.    \n",
    "    \"\"\"    \n",
    "    idf = IDF(inputCol=input_col, outputCol=output_col)\n",
    "    idfModel = idf.fit(p_df)\n",
    "    return idfModel.transform(p_df)\n",
    "\n",
    "\n",
    "def tf_idf_features_quora(p_df):\n",
    "    \"\"\"\n",
    "    Extracts TF-IDF features from quora dataset.\n",
    "    :param p_df: A DataFrame.\n",
    "    :return: A DataFrame.    \n",
    "    \"\"\"     \n",
    "    tf_df = extract_tf_features(p_df, \"question1_meaningful_words\", \"tf1\")\n",
    "    tf_df = extract_tf_features(tf_df, \"question2_meaningful_words\", \"tf2\")\n",
    "    tf_idf_df = extract_idf_features(tf_df, \"tf1\", \"tf-idf1\")\n",
    "    tf_idf_df = extract_idf_features(tf_idf_df, \"tf2\", \"tf-idf2\")\n",
    "    assembler = VectorAssembler(\n",
    "        inputCols=[\"tf-idf1\", \"tf-idf2\"],\n",
    "        outputCol=\"tf_idf_features\"\n",
    "    )\n",
    "    return assembler.transform(tf_idf_df)\n",
    "\n",
    "def text_features(p_df):\n",
    "    \"\"\"\n",
    "    Extracts features derived from the quora question texts.\n",
    "    :param p_df: A DataFrame.\n",
    "    :return: A DataFrame.  \n",
    "    \"\"\"\n",
    "    diff_len = udf(lambda arr: arr[0] - arr[1], IntegerType())\n",
    "    common_words = udf(lambda arr: len(set(arr[0]).intersection(set(arr[1]))), IntegerType())\n",
    "    unique_chars = udf(lambda s: len(''.join(set(s.replace(' ', '')))), IntegerType())\n",
    "\n",
    "\n",
    "    p_df = p_df.withColumn(\"len_q1\", length(\"question1\")).withColumn(\"len_q2\", length(\"question2\"))\n",
    "    p_df = p_df.withColumn(\"diff_len\", diff_len(array(\"len_q1\", \"len_q2\")))\n",
    "    p_df = p_df.withColumn(\"words_q1\", size(\"question1_words\")).withColumn(\"words_q2\", size(\"question2_words\"))\n",
    "    p_df = p_df.withColumn(\"common_words\", common_words(array(\"question1_words\", \"question2_words\")))\n",
    "    p_df = p_df.withColumn(\n",
    "        \"unique_chars_q1\", unique_chars(\"question1\")\n",
    "    ).withColumn(\"unique_chars_q2\", unique_chars(\"question2\"))\n",
    "\n",
    "    assembler = VectorAssembler(\n",
    "        inputCols=[\"len_q1\", \"len_q2\", \"diff_len\", \"words_q1\", \"words_q2\", \"common_words\", \"unique_chars_q1\", \"unique_chars_q2\"],\n",
    "        outputCol=\"text_features\"\n",
    "    )\n",
    "    p_df = assembler.transform(p_df)    \n",
    "    return p_df\n"
   ]
  },
  {
   "cell_type": "markdown",
   "metadata": {},
   "source": [
    "# Load the Data and Extract Features\n",
    "Loading the data and extracting the features we discussed before by calling the utility functions that we defined."
   ]
  },
  {
   "cell_type": "code",
   "execution_count": null,
   "metadata": {
    "collapsed": true
   },
   "outputs": [],
   "source": [
    "# Load the training data into a dataframe\n",
    "data = spark.read.format('json').load('train.jsonl')\n",
    "data = clean_tokenize_remove_stopwords_quora(data)\n",
    "\n",
    "# Get the tf-idf features\n",
    "data = tf_idf_features_quora(data)\n",
    "# Get the text features\n",
    "data = text_features(data)\n",
    "\n",
    "# combine all the features\n",
    "feature_assembler = VectorAssembler(\n",
    "    inputCols=[\"tf_idf_features\", \"text_features\"],\n",
    "    outputCol=\"combined_features\"\n",
    ")\n",
    "data = feature_assembler.transform(data)\n",
    "\n",
    "\n",
    "# Normalizing each feature to have unit standard deviation\n",
    "scaler = StandardScaler(inputCol=\"combined_features\", outputCol=\"features\",\n",
    "                        withStd=True, withMean=False)\n",
    "scalerModel = scaler.fit(data)\n",
    "# Normalize each feature to have unit standard deviation.\n",
    "data = scalerModel.transform(data)\n",
    "\n",
    "\n",
    "# Index labels, adding metadata to the label column.\n",
    "# Fit on whole dataset to include all labels in index.\n",
    "label_indexer = StringIndexer(inputCol=\"label\", outputCol=\"indexedLabel\").fit(data)\n",
    "# Automatically identify categorical features, and index them.\n",
    "feature_indexer = VectorIndexer(inputCol=\"features\", outputCol=\"indexedFeatures\", maxCategories=2).fit(data)\n",
    "\n",
    "training_df, test_df = data.randomSplit([0.8, 0.2])\n",
    "training_df.cache()\n",
    "test_df.cache()\n"
   ]
  },
  {
   "cell_type": "markdown",
   "metadata": {},
   "source": [
    "# Models\n",
    "I experimented with Logistic Regression, Decision Tree, and Random Forest. But first I am defining a utility function to print the evaluation metrics."
   ]
  },
  {
   "cell_type": "markdown",
   "metadata": {},
   "source": [
    "# Utility Functions"
   ]
  },
  {
   "cell_type": "code",
   "execution_count": null,
   "metadata": {
    "collapsed": true
   },
   "outputs": [],
   "source": [
    "from pyspark.ml.evaluation import MulticlassClassificationEvaluator\n",
    "\n",
    "def print_evaluation_metrics(model, test_df, labelCol=\"label\", featuresCol=\"features\"):\n",
    "    \"\"\"\n",
    "    Prints evaluation metrics.\n",
    "    :param model: Used model.\n",
    "    :param test_df: dataframe containing test data.\n",
    "    :param labelCol: label column.\n",
    "    :param featuresCol: features column.\n",
    "    :return: A DataFrame.\n",
    "    \"\"\"\n",
    "    predictions = model.transform(test_df)\n",
    "\n",
    "\n",
    "    # Select (prediction, true label) and compute test error\n",
    "    evaluator = MulticlassClassificationEvaluator(\n",
    "        labelCol=labelCol, predictionCol=\"prediction\",)\n",
    "    accuracy = evaluator.evaluate(predictions, {evaluator.metricName: \"accuracy\"})\n",
    "    f1 = evaluator.evaluate(predictions, {evaluator.metricName: \"f1\"})\n",
    "    weighted_precision = evaluator.evaluate(predictions, {evaluator.metricName: \"weightedPrecision\"})\n",
    "    weighted_recall = evaluator.evaluate(predictions, {evaluator.metricName: \"weightedRecall\"})\n",
    "    print \"Accuracy:\", accuracy\n",
    "    print \"f1:\", f1\n",
    "    print \"Precision:\", weighted_precision\n",
    "    print \"Recall:\", weighted_recall"
   ]
  },
  {
   "cell_type": "markdown",
   "metadata": {},
   "source": [
    "## Logistic Regression\n",
    "I used 10 fold cross validation to select the parameters for Logistic Regression."
   ]
  },
  {
   "cell_type": "code",
   "execution_count": null,
   "metadata": {
    "collapsed": true
   },
   "outputs": [],
   "source": [
    "from pyspark.ml.classification import LogisticRegression\n",
    "from pyspark.ml.tuning import CrossValidator, ParamGridBuilder\n",
    "from pyspark.ml.evaluation import BinaryClassificationEvaluator\n",
    "lr = LogisticRegression(maxIter=100, elasticNetParam=0.8)\n",
    "\n",
    "\n",
    "paramGrid = ParamGridBuilder() \\\n",
    "    .addGrid(lr.regParam, [0, 0.001, 0.003, 0.01, 0.03, 0.1, 0.3, 1, 3, 10]) \\\n",
    "    .addGrid(lr.elasticNetParam, [0, 0.01, 0.03, 0.1, 0.2, 0.3, 0.4, 0.5, 0.6, 0.7, 0.8, 0.9, 1]) \\\n",
    "    .build()\n",
    "\n",
    "crossval = CrossValidator(estimator=lr,\n",
    "                          estimatorParamMaps=paramGrid,\n",
    "                          evaluator=BinaryClassificationEvaluator(),\n",
    "                          numFolds=10)  # 10 fold cross validation\n",
    "\n",
    "# Fit the model\n",
    "lrModel = lr.fit(training_df)\n"
   ]
  },
  {
   "cell_type": "code",
   "execution_count": null,
   "metadata": {
    "collapsed": true
   },
   "outputs": [],
   "source": [
    "print_evaluation_metrics(lrModel, test_df, labelCol=\"label\", featuresCol=\"features\")"
   ]
  },
  {
   "cell_type": "markdown",
   "metadata": {},
   "source": [
    "Logictic Regression performs as below:\n",
    "* Accuracy: 0.756172724449\n",
    "* f1: 0.753834390431\n",
    "* Precision: 0.752930056979\n",
    "* Recall: 0.756172724449"
   ]
  },
  {
   "cell_type": "markdown",
   "metadata": {},
   "source": [
    "## Decision Tree"
   ]
  },
  {
   "cell_type": "code",
   "execution_count": null,
   "metadata": {
    "collapsed": true
   },
   "outputs": [],
   "source": [
    "from pyspark.ml import Pipeline\n",
    "from pyspark.ml.classification import DecisionTreeClassifier\n",
    "from pyspark.ml.evaluation import MulticlassClassificationEvaluator\n",
    "\n",
    "\n",
    "# Train a DecisionTree model.\n",
    "dt = DecisionTreeClassifier(labelCol=\"indexedLabel\", featuresCol=\"indexedFeatures\")\n",
    "\n",
    "# Chain indexers and tree in a Pipeline\n",
    "pipeline = Pipeline(stages=[label_indexer, feature_indexer, dt])\n",
    "\n",
    "# Train model.  This also runs the indexers.\n",
    "model = pipeline.fit(training_df)\n",
    "\n"
   ]
  },
  {
   "cell_type": "code",
   "execution_count": null,
   "metadata": {
    "collapsed": true
   },
   "outputs": [],
   "source": [
    "print_evaluation_metrics(model, test_df, labelCol=\"indexedLabel\", featuresCol=\"indexedFeatures\")"
   ]
  },
  {
   "cell_type": "markdown",
   "metadata": {},
   "source": [
    "The accuracy and f1-socre go down with Desicion Tree:\n",
    "* Accuracy: 0.674420627524\n",
    "* f1: 0.665704726497\n",
    "* Precision: 0.664141841759\n",
    "* Recall: 0.674420627524"
   ]
  },
  {
   "cell_type": "markdown",
   "metadata": {},
   "source": [
    "## Random Forest"
   ]
  },
  {
   "cell_type": "code",
   "execution_count": null,
   "metadata": {
    "collapsed": true
   },
   "outputs": [],
   "source": [
    "from pyspark.ml import Pipeline\n",
    "from pyspark.ml.classification import RandomForestClassifier\n",
    "from pyspark.ml.feature import StringIndexer, VectorIndexer\n",
    "from pyspark.ml.evaluation import MulticlassClassificationEvaluator\n",
    "\n",
    "\n",
    "# Train a RandomForest model.\n",
    "rf = RandomForestClassifier(labelCol=\"indexedLabel\", featuresCol=\"indexedFeatures\", numTrees=30)\n",
    "\n",
    "# Chain indexers and forest in a Pipeline\n",
    "pipeline = Pipeline(stages=[label_indexer, feature_indexer, rf])\n",
    "\n",
    "# Train model.  This also runs the indexers.\n",
    "model = pipeline.fit(training_df)\n"
   ]
  },
  {
   "cell_type": "code",
   "execution_count": null,
   "metadata": {
    "collapsed": true
   },
   "outputs": [],
   "source": [
    "print_evaluation_metrics(model, test_df, labelCol=\"indexedLabel\", featuresCol=\"indexedFeatures\")"
   ]
  },
  {
   "cell_type": "markdown",
   "metadata": {
    "collapsed": true
   },
   "source": [
    "Random forest gives us the worst perfomance:\n",
    "* Accuracy: 0.632382727555\n",
    "* f1: 0.491917348606\n",
    "* Precision: 0.755623695496\n",
    "* Recall: 0.632382727555"
   ]
  },
  {
   "cell_type": "markdown",
   "metadata": {
    "collapsed": true
   },
   "source": [
    "# Conclusion\n",
    "Logistic Regression gives us the best performance with accuracy 0.756172724449 and f1-score 0.753834390431. It would be interesting to see how this approach will peform if we use more semantic features such as Word2Vec and LSA."
   ]
  }
 ],
 "metadata": {
  "kernelspec": {
   "display_name": "Python [default]",
   "language": "python",
   "name": "python2"
  },
  "language_info": {
   "codemirror_mode": {
    "name": "ipython",
    "version": 2
   },
   "file_extension": ".py",
   "mimetype": "text/x-python",
   "name": "python",
   "nbconvert_exporter": "python",
   "pygments_lexer": "ipython2",
   "version": "2.7.13"
  }
 },
 "nbformat": 4,
 "nbformat_minor": 2
}
